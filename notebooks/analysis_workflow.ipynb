{
 "cells": [
  {
   "cell_type": "code",
   "execution_count": null,
   "metadata": {},
   "outputs": [],
   "source": [
    "import sys\n",
    "import os\n",
    "import pandas as pd\n",
    "\n",
    "sys.path.append(os.path.abspath(os.path.join(os.getcwd(), '../src')))\n",
    "sys.path.append(os.path.abspath(os.path.join(os.getcwd(), '../scripts')))"
   ]
  },
  {
   "cell_type": "code",
   "execution_count": null,
   "metadata": {},
   "outputs": [],
   "source": [
    "# Usage Example\n",
    "from analysis_workflows.analysis_workflow import AnalysisWorkflow\n",
    "\n",
    "\n",
    "data = \"../data/BrentOilPrices.csv\"\n",
    "workflow = AnalysisWorkflow(data)\n",
    "\n"
   ]
  },
  {
   "cell_type": "code",
   "execution_count": null,
   "metadata": {},
   "outputs": [],
   "source": [
    "# Execute the workflow steps\n",
    "workflow.load_and_preprocess_data()\n",
    "workflow.perform_eda()\n",
    "workflow.select_model_and_define_hypotheses()\n",
    "workflow.define_assumptions_and_limitations()\n",
    "workflow.run_arima_model(order=(1, 1, 1))\n",
    "workflow.run_garch_model(vol=\"Garch\", p=1, q=1)\n",
    "report = workflow.generate_report()\n",
    "print(report)\n",
    "workflow.communicate_results()\n",
    "\n"
   ]
  },
  {
   "cell_type": "code",
   "execution_count": null,
   "metadata": {},
   "outputs": [],
   "source": []
  },
  {
   "cell_type": "code",
   "execution_count": null,
   "metadata": {},
   "outputs": [],
   "source": [
    "\n",
    "# # Model fitting and report generation\n",
    "# workflow.run_arima_model(order=(1, 1, 1))\n",
    "# workflow.run_garch_model(vol=\"Garch\", p=1, q=1)\n",
    "# report = workflow.generate_report()\n",
    "# print(report)"
   ]
  }
 ],
 "metadata": {
  "kernelspec": {
   "display_name": ".venv",
   "language": "python",
   "name": "python3"
  },
  "language_info": {
   "codemirror_mode": {
    "name": "ipython",
    "version": 3
   },
   "file_extension": ".py",
   "mimetype": "text/x-python",
   "name": "python",
   "nbconvert_exporter": "python",
   "pygments_lexer": "ipython3",
   "version": "3.12.0"
  }
 },
 "nbformat": 4,
 "nbformat_minor": 2
}
